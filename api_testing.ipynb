{
 "cells": [
  {
   "cell_type": "code",
   "execution_count": 1,
   "metadata": {},
   "outputs": [],
   "source": [
    "import pandas as pd\n",
    "import requests\n",
    "from nba_api.stats.static import players\n",
    "from nba_api.stats.static import teams\n",
    "from nba_api.stats.endpoints import leaguegamefinder\n",
    "from nba_api.stats.endpoints import playercareerstats"
   ]
  },
  {
   "cell_type": "code",
   "execution_count": 2,
   "metadata": {
    "scrolled": true
   },
   "outputs": [
    {
     "data": {
      "text/plain": [
       "{'id': 203500,\n",
       " 'full_name': 'Steven Adams',\n",
       " 'first_name': 'Steven',\n",
       " 'last_name': 'Adams',\n",
       " 'is_active': True}"
      ]
     },
     "execution_count": 2,
     "metadata": {},
     "output_type": "execute_result"
    }
   ],
   "source": [
    "#Getting all Active players from in NBA\n",
    "act_nba_players = players.get_active_players()\n",
    "act_nba_players[0]\n"
   ]
  },
  {
   "cell_type": "code",
   "execution_count": null,
   "metadata": {},
   "outputs": [],
   "source": []
  },
  {
   "cell_type": "code",
   "execution_count": 4,
   "metadata": {},
   "outputs": [
    {
     "data": {
      "text/html": [
       "<div>\n",
       "<style scoped>\n",
       "    .dataframe tbody tr th:only-of-type {\n",
       "        vertical-align: middle;\n",
       "    }\n",
       "\n",
       "    .dataframe tbody tr th {\n",
       "        vertical-align: top;\n",
       "    }\n",
       "\n",
       "    .dataframe thead th {\n",
       "        text-align: right;\n",
       "    }\n",
       "</style>\n",
       "<table border=\"1\" class=\"dataframe\">\n",
       "  <thead>\n",
       "    <tr style=\"text-align: right;\">\n",
       "      <th></th>\n",
       "      <th>Active Player</th>\n",
       "      <th>Player ID</th>\n",
       "    </tr>\n",
       "  </thead>\n",
       "  <tbody>\n",
       "    <tr>\n",
       "      <th>0</th>\n",
       "      <td>Steven Adams</td>\n",
       "      <td>203500</td>\n",
       "    </tr>\n",
       "    <tr>\n",
       "      <th>1</th>\n",
       "      <td>Bam Adebayo</td>\n",
       "      <td>1628389</td>\n",
       "    </tr>\n",
       "    <tr>\n",
       "      <th>2</th>\n",
       "      <td>LaMarcus Aldridge</td>\n",
       "      <td>200746</td>\n",
       "    </tr>\n",
       "    <tr>\n",
       "      <th>3</th>\n",
       "      <td>Kyle Alexander</td>\n",
       "      <td>1629734</td>\n",
       "    </tr>\n",
       "    <tr>\n",
       "      <th>4</th>\n",
       "      <td>Nickeil Alexander-Walker</td>\n",
       "      <td>1629638</td>\n",
       "    </tr>\n",
       "    <tr>\n",
       "      <th>...</th>\n",
       "      <td>...</td>\n",
       "      <td>...</td>\n",
       "    </tr>\n",
       "    <tr>\n",
       "      <th>514</th>\n",
       "      <td>Thaddeus Young</td>\n",
       "      <td>201152</td>\n",
       "    </tr>\n",
       "    <tr>\n",
       "      <th>515</th>\n",
       "      <td>Trae Young</td>\n",
       "      <td>1629027</td>\n",
       "    </tr>\n",
       "    <tr>\n",
       "      <th>516</th>\n",
       "      <td>Cody Zeller</td>\n",
       "      <td>203469</td>\n",
       "    </tr>\n",
       "    <tr>\n",
       "      <th>517</th>\n",
       "      <td>Ante Zizic</td>\n",
       "      <td>1627790</td>\n",
       "    </tr>\n",
       "    <tr>\n",
       "      <th>518</th>\n",
       "      <td>Ivica Zubac</td>\n",
       "      <td>1627826</td>\n",
       "    </tr>\n",
       "  </tbody>\n",
       "</table>\n",
       "<p>519 rows × 2 columns</p>\n",
       "</div>"
      ],
      "text/plain": [
       "                Active Player  Player ID\n",
       "0                Steven Adams     203500\n",
       "1                 Bam Adebayo    1628389\n",
       "2           LaMarcus Aldridge     200746\n",
       "3              Kyle Alexander    1629734\n",
       "4    Nickeil Alexander-Walker    1629638\n",
       "..                        ...        ...\n",
       "514            Thaddeus Young     201152\n",
       "515                Trae Young    1629027\n",
       "516               Cody Zeller     203469\n",
       "517                Ante Zizic    1627790\n",
       "518               Ivica Zubac    1627826\n",
       "\n",
       "[519 rows x 2 columns]"
      ]
     },
     "execution_count": 4,
     "metadata": {},
     "output_type": "execute_result"
    }
   ],
   "source": [
    "#This code makes two blank lists then fills them with the name and player ID of all active NBA players\n",
    "act_player_name=[]\n",
    "act_player_id=[]\n",
    "for num in range(len(act_nba_players)):\n",
    "    act_player_name.append(act_nba_players[num]['full_name'])\n",
    "    act_player_id.append(act_nba_players[num]['id'])\n",
    "\n",
    "#This code makes a dataframe from the name and ID with the appropriate header\n",
    "raw_data={\"Active Player\":act_player_name, \"Player ID\":act_player_id}\n",
    "act_player_df = pd.DataFrame(raw_data)\n",
    "act_player_df"
   ]
  },
  {
   "cell_type": "code",
   "execution_count": 5,
   "metadata": {},
   "outputs": [
    {
     "data": {
      "text/plain": [
       "{'id': 76001,\n",
       " 'full_name': 'Alaa Abdelnaby',\n",
       " 'first_name': 'Alaa',\n",
       " 'last_name': 'Abdelnaby',\n",
       " 'is_active': False}"
      ]
     },
     "execution_count": 5,
     "metadata": {},
     "output_type": "execute_result"
    }
   ],
   "source": [
    "#Getting all players from NBA\n",
    "all_nba_players = players.get_players()\n",
    "all_nba_players[0]"
   ]
  },
  {
   "cell_type": "code",
   "execution_count": 6,
   "metadata": {},
   "outputs": [
    {
     "data": {
      "text/html": [
       "<div>\n",
       "<style scoped>\n",
       "    .dataframe tbody tr th:only-of-type {\n",
       "        vertical-align: middle;\n",
       "    }\n",
       "\n",
       "    .dataframe tbody tr th {\n",
       "        vertical-align: top;\n",
       "    }\n",
       "\n",
       "    .dataframe thead th {\n",
       "        text-align: right;\n",
       "    }\n",
       "</style>\n",
       "<table border=\"1\" class=\"dataframe\">\n",
       "  <thead>\n",
       "    <tr style=\"text-align: right;\">\n",
       "      <th></th>\n",
       "      <th>Active Player</th>\n",
       "      <th>Player ID</th>\n",
       "    </tr>\n",
       "  </thead>\n",
       "  <tbody>\n",
       "    <tr>\n",
       "      <th>0</th>\n",
       "      <td>Alaa Abdelnaby</td>\n",
       "      <td>76001</td>\n",
       "    </tr>\n",
       "    <tr>\n",
       "      <th>1</th>\n",
       "      <td>Zaid Abdul-Aziz</td>\n",
       "      <td>76002</td>\n",
       "    </tr>\n",
       "    <tr>\n",
       "      <th>2</th>\n",
       "      <td>Kareem Abdul-Jabbar</td>\n",
       "      <td>76003</td>\n",
       "    </tr>\n",
       "    <tr>\n",
       "      <th>3</th>\n",
       "      <td>Mahmoud Abdul-Rauf</td>\n",
       "      <td>51</td>\n",
       "    </tr>\n",
       "    <tr>\n",
       "      <th>4</th>\n",
       "      <td>Tariq Abdul-Wahad</td>\n",
       "      <td>1505</td>\n",
       "    </tr>\n",
       "    <tr>\n",
       "      <th>...</th>\n",
       "      <td>...</td>\n",
       "      <td>...</td>\n",
       "    </tr>\n",
       "    <tr>\n",
       "      <th>4496</th>\n",
       "      <td>Ante Zizic</td>\n",
       "      <td>1627790</td>\n",
       "    </tr>\n",
       "    <tr>\n",
       "      <th>4497</th>\n",
       "      <td>Jim Zoet</td>\n",
       "      <td>78647</td>\n",
       "    </tr>\n",
       "    <tr>\n",
       "      <th>4498</th>\n",
       "      <td>Bill Zopf</td>\n",
       "      <td>78648</td>\n",
       "    </tr>\n",
       "    <tr>\n",
       "      <th>4499</th>\n",
       "      <td>Ivica Zubac</td>\n",
       "      <td>1627826</td>\n",
       "    </tr>\n",
       "    <tr>\n",
       "      <th>4500</th>\n",
       "      <td>Matt Zunic</td>\n",
       "      <td>78650</td>\n",
       "    </tr>\n",
       "  </tbody>\n",
       "</table>\n",
       "<p>4501 rows × 2 columns</p>\n",
       "</div>"
      ],
      "text/plain": [
       "            Active Player  Player ID\n",
       "0          Alaa Abdelnaby      76001\n",
       "1         Zaid Abdul-Aziz      76002\n",
       "2     Kareem Abdul-Jabbar      76003\n",
       "3      Mahmoud Abdul-Rauf         51\n",
       "4       Tariq Abdul-Wahad       1505\n",
       "...                   ...        ...\n",
       "4496           Ante Zizic    1627790\n",
       "4497             Jim Zoet      78647\n",
       "4498            Bill Zopf      78648\n",
       "4499          Ivica Zubac    1627826\n",
       "4500           Matt Zunic      78650\n",
       "\n",
       "[4501 rows x 2 columns]"
      ]
     },
     "execution_count": 6,
     "metadata": {},
     "output_type": "execute_result"
    }
   ],
   "source": [
    "#This code makes two blank lists then fills them with the name and player ID of ALL NBA players\n",
    "all_player_name=[]\n",
    "all_player_id=[]\n",
    "for num in range(len(all_nba_players)):\n",
    "    all_player_name.append(all_nba_players[num]['full_name'])\n",
    "    all_player_id.append(all_nba_players[num]['id'])\n",
    "\n",
    "#This code makes a dataframe from the name and ID with the appropriate header\n",
    "raw_data={\"Active Player\":all_player_name, \"Player ID\":all_player_id}\n",
    "all_player_df = pd.DataFrame(raw_data)\n",
    "all_player_df"
   ]
  },
  {
   "cell_type": "code",
   "execution_count": null,
   "metadata": {},
   "outputs": [],
   "source": []
  }
 ],
 "metadata": {
  "kernelspec": {
   "display_name": "Python 3",
   "language": "python",
   "name": "python3"
  },
  "language_info": {
   "codemirror_mode": {
    "name": "ipython",
    "version": 3
   },
   "file_extension": ".py",
   "mimetype": "text/x-python",
   "name": "python",
   "nbconvert_exporter": "python",
   "pygments_lexer": "ipython3",
   "version": "3.8.1"
  }
 },
 "nbformat": 4,
 "nbformat_minor": 4
}
