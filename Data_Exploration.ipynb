{
 "cells": [
  {
   "cell_type": "code",
   "execution_count": 4,
   "metadata": {},
   "outputs": [],
   "source": [
    "import pandas as pd\n",
    "import requests\n",
    "\n",
    "#From Jason\n",
    "url_2020 = \"http://www.espn.com/nba/attendance\"\n",
    "base_url_other = \"http://www.espn.com/nba/attendance/_/year/\"\n"
   ]
  },
  {
   "cell_type": "code",
   "execution_count": 5,
   "metadata": {},
   "outputs": [
    {
     "ename": "NameError",
     "evalue": "name 'urls' is not defined",
     "output_type": "error",
     "traceback": [
      "\u001b[1;31m---------------------------------------------------------------------------\u001b[0m",
      "\u001b[1;31mNameError\u001b[0m                                 Traceback (most recent call last)",
      "\u001b[1;32m<ipython-input-5-81af0c216aee>\u001b[0m in \u001b[0;36m<module>\u001b[1;34m\u001b[0m\n\u001b[0;32m      2\u001b[0m \u001b[1;33m\u001b[0m\u001b[0m\n\u001b[0;32m      3\u001b[0m \u001b[1;32mfor\u001b[0m \u001b[0myear\u001b[0m \u001b[1;32min\u001b[0m \u001b[0myears\u001b[0m\u001b[1;33m:\u001b[0m\u001b[1;33m\u001b[0m\u001b[1;33m\u001b[0m\u001b[0m\n\u001b[1;32m----> 4\u001b[1;33m     \u001b[0murls\u001b[0m\u001b[1;33m.\u001b[0m\u001b[0mappend\u001b[0m\u001b[1;33m(\u001b[0m\u001b[0mbase_url_other\u001b[0m \u001b[1;33m+\u001b[0m \u001b[0mstr\u001b[0m\u001b[1;33m(\u001b[0m\u001b[0myear\u001b[0m\u001b[1;33m)\u001b[0m\u001b[1;33m)\u001b[0m\u001b[1;33m\u001b[0m\u001b[1;33m\u001b[0m\u001b[0m\n\u001b[0m",
      "\u001b[1;31mNameError\u001b[0m: name 'urls' is not defined"
     ]
    }
   ],
   "source": [
    "years = [year for year in range(2001,2019)]\n",
    "\n",
    "for year in years:\n",
    "    urls.append(base_url_other + str(year))"
   ]
  },
  {
   "cell_type": "code",
   "execution_count": null,
   "metadata": {},
   "outputs": [],
   "source": [
    "nba2001 = pd.read_html(\"http://www.espn.com/nba/attendance/_/year/2001\", header = 0, index_col = 1)\n",
    "nba2002 = pd.read_html(\"http://www.espn.com/nba/attendance/_/year/2002\", header = 0, index_col = 1)\n",
    "nba2003 = pd.read_html(\"http://www.espn.com/nba/attendance/_/year/2003\", header = 0, index_col = 1)\n",
    "nba2004 = pd.read_html(\"http://www.espn.com/nba/attendance/_/year/2004\", header = 0, index_col = 1)\n",
    "nba2005 = pd.read_html(\"http://www.espn.com/nba/attendance/_/year/2005\", header = 0, index_col = 1)\n",
    "nba2006 = pd.read_html(\"http://www.espn.com/nba/attendance/_/year/2006\", header = 0, index_col = 1)\n",
    "nba2007 = pd.read_html(\"http://www.espn.com/nba/attendance/_/year/2007\", header = 0, index_col = 1)\n",
    "nba2008 = pd.read_html(\"http://www.espn.com/nba/attendance/_/year/2008\", header = 0, index_col = 1)\n",
    "nba2009 = pd.read_html(\"http://www.espn.com/nba/attendance/_/year/2009\", header = 0, index_col = 1)\n",
    "nba2010 = pd.read_html(\"http://www.espn.com/nba/attendance/_/year/2010\", header = 0, index_col = 1)\n",
    "nba2011 = pd.read_html(\"http://www.espn.com/nba/attendance/_/year/2011\", header = 0, index_col = 1)\n",
    "nba2012 = pd.read_html(\"http://www.espn.com/nba/attendance/_/year/2012\", header = 0, index_col = 1)\n",
    "nba2013 = pd.read_html(\"http://www.espn.com/nba/attendance/_/year/2013\", header = 0, index_col = 1)\n",
    "nba2014 = pd.read_html(\"http://www.espn.com/nba/attendance/_/year/2014\", header = 0, index_col = 1)\n",
    "nba2015 = pd.read_html(\"http://www.espn.com/nba/attendance/_/year/2015\", header = 0, index_col = 1)\n",
    "nba2016 = pd.read_html(\"http://www.espn.com/nba/attendance/_/year/2016\", header = 0, index_col = 1)\n",
    "nba2017 = pd.read_html(\"http://www.espn.com/nba/attendance/_/year/2017\", header = 0, index_col = 1)\n",
    "nba2018 = pd.read_html(\"http://www.espn.com/nba/attendance/_/year/2018\", header = 0, index_col= 1)\n",
    "nba2019 = pd.read_html(\"http://www.espn.com/nba/attendance/_/year/2018\", header = 0, index_col = 1)\n",
    "nba2020 = pd.read_html(\"http://www.espn.com/nba/attendance\", header = 0, index_col = 1)"
   ]
  },
  {
   "cell_type": "code",
   "execution_count": null,
   "metadata": {},
   "outputs": [],
   "source": [
    "nba2001_df = pd.DataFrame(nba2001[0])\n",
    "nba2002_df = pd.DataFrame(nba2002[0])\n",
    "nba2003_df = pd.DataFrame(nba2003[0])\n",
    "nba2004_df = pd.DataFrame(nba2004[0])\n",
    "nba2005_df = pd.DataFrame(nba2005[0])\n",
    "nba2006_df = pd.DataFrame(nba2006[0])\n",
    "nba2007_df = pd.DataFrame(nba2007[0])\n",
    "nba2008_df = pd.DataFrame(nba2008[0])\n",
    "nba2009_df = pd.DataFrame(nba2009[0])\n",
    "nba2010_df = pd.DataFrame(nba2010[0])\n",
    "nba2011_df = pd.DataFrame(nba2011[0])\n",
    "nba2012_df = pd.DataFrame(nba2012[0])\n",
    "nba2013_df = pd.DataFrame(nba2013[0])\n",
    "nba2014_df = pd.DataFrame(nba2014[0])\n",
    "nba2015_df = pd.DataFrame(nba2015[0])\n",
    "nba2016_df = pd.DataFrame(nba2016[0])\n",
    "nba2017_df = pd.DataFrame(nba2017[0])\n",
    "nba2018_df = pd.DataFrame(nba2018[0])\n",
    "nba2019_df = pd.DataFrame(nba2019[0])\n",
    "nba2020_df = pd.DataFrame(nba2020[0])"
   ]
  }
 ],
 "metadata": {
  "kernelspec": {
   "display_name": "Python 3",
   "language": "python",
   "name": "python3"
  },
  "language_info": {
   "codemirror_mode": {
    "name": "ipython",
    "version": 3
   },
   "file_extension": ".py",
   "mimetype": "text/x-python",
   "name": "python",
   "nbconvert_exporter": "python",
   "pygments_lexer": "ipython3",
   "version": "3.8.1"
  }
 },
 "nbformat": 4,
 "nbformat_minor": 4
}
