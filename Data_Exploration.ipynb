{
 "cells": [
  {
   "cell_type": "code",
   "execution_count": null,
   "metadata": {},
   "outputs": [],
   "source": [
    "# Jason's portion of TTh Group 6 challenge\n",
    "\n",
    "import pandas as pd\n",
    "from pandas.io.json import json_normalize\n",
    "import requests\n",
    "import time\n",
    "\n",
    "from nba_api.stats.endpoints import playercareerstats\n",
    "from nba_api.stats.static import teams\n",
    "from nba_api.stats.endpoints import leaguegamefinder\n",
    "from nba_api.stats.endpoints import commonplayerinfo\n",
    "from nba_api.stats.static import players\n",
    "\n",
    "from config import api_key"
   ]
  },
  {
   "cell_type": "code",
   "execution_count": null,
   "metadata": {},
   "outputs": [],
   "source": [
    "# Get complete player list from NBA api\n",
    "player_list = players.get_players()\n",
    "\n",
    "# Create a dataframe of all players\n",
    "player_list_df = pd.DataFrame(player_list)\n",
    "\n",
    "# Check the df.\n",
    "player_list_df"
   ]
  },
  {
   "cell_type": "code",
   "execution_count": null,
   "metadata": {},
   "outputs": [],
   "source": [
    "# Use the player IDs we recovered to identify player career stats\n",
    "# set up query for playercareerstats from NBA api\n",
    "# Loop through each player\n",
    "\n",
    "\n",
    "code breaker, do not run this again, it takes over two hours to run as configured.\n",
    "\n",
    "player_df = pd.DataFrame()\n",
    "for index, row in player_list_df.iterrows():\n",
    "    # get player_list_df from df\n",
    "    \n",
    "    player_id = row[\"id\"]\n",
    "    career = playercareerstats.PlayerCareerStats(player_id = player_id)\n",
    "    response = career.get_data_frames()\n",
    "    \n",
    "     # Try to grab the data if available from the API.\n",
    "    try:\n",
    "        for player in response:\n",
    "            player_df = player_df.append(player, sort=True) \n",
    "            print(f\"ID:{player_id} found! Appending the DataFrame.\")\n",
    "            #Add delay to prevent throttling the API.\n",
    "            #time.sleep(0.5)\n",
    "    except:\n",
    "        print(\"Player not found\")\n",
    "        pass"
   ]
  },
  {
   "cell_type": "code",
   "execution_count": null,
   "metadata": {},
   "outputs": [],
   "source": [
    "# Save Data to csv\n",
    "player_df.to_csv(\"data/player_df.csv\")\n",
    "\n",
    "player_df.columns"
   ]
  },
  {
   "cell_type": "code",
   "execution_count": null,
   "metadata": {},
   "outputs": [],
   "source": [
    "# Merge the player_df with the players list df because the new player_df with the stats doesn't have the player's name\n",
    "# Using left merge to keep all of the stats data with merge based on the common player ID\n",
    "\n",
    "player_stats = pd.merge(player_df, player_list_df, left_on=\"PLAYER_ID\", right_on=\"id\", how=\"left\")\n",
    "\n",
    "#Check the new DF.\n",
    "player_stats.head()"
   ]
  },
  {
   "cell_type": "code",
   "execution_count": null,
   "metadata": {},
   "outputs": [],
   "source": [
    "# Save Data to csv\n",
    "player_stats.to_csv(\"data/player_stats.csv\")"
   ]
  },
  {
   "cell_type": "code",
   "execution_count": null,
   "metadata": {},
   "outputs": [],
   "source": [
    "# Create new DF with only 2019 season data\n",
    "\n",
    "stats_2019 = player_stats.loc[(player_stats[\"SEASON_ID\"] == \"2019-20\")]\n",
    "\n",
    "#Check the new DF.\n",
    "stats_2019.head()"
   ]
  },
  {
   "cell_type": "code",
   "execution_count": null,
   "metadata": {},
   "outputs": [],
   "source": [
    "# Save the 2019 season stats data for each player to csv\n",
    "stats_2019.to_csv(\"data/stats_2019.csv\")"
   ]
  },
  {
   "cell_type": "code",
   "execution_count": null,
   "metadata": {},
   "outputs": [],
   "source": [
    "# Pull active player data from SportData.io API that encompasses the 2019 season\n",
    "\n",
    "#Build the base URL\n",
    "sd_active_players_base_url = \"http://api.sportsdata.io/v3/nba/scores/json/Players\"\n",
    "\n",
    "#Building the working url with the API key from config.\n",
    "sd_active_players_url = sd_active_players_base_url + \"?key=\" + api_key\n",
    "\n",
    "# Get data for active players from Sportdata.io\n",
    "\n",
    "sd_active_players_response = requests.get(sd_active_players_url)\n",
    "sd_active_players_json = sd_active_players_response.json()\n",
    "\n",
    "# Normalzie the json from the list of active players from the Sportdata.io\n",
    "sd_active_players = json_normalize(sd_active_players_json)\n",
    "\n",
    "# Create the Dataframe\n",
    "active_players_data_df = pd.DataFrame(active_players_sd)\n",
    "\n",
    "# Check the DF\n",
    "active_players_data_df"
   ]
  },
  {
   "cell_type": "code",
   "execution_count": null,
   "metadata": {},
   "outputs": [],
   "source": [
    "# Merge this DataFrame with the stats_2019 DataFrame\n",
    "# Using inner merge to keep only data common to both the DataFrames \n",
    "# linking on the \"id\" from the NBA and the \"NbaDotComPlayerID\" from SportsDataIO\n",
    "\n",
    "combined_stats_2019 = pd.merge(stats_2019, sd_active_players, \n",
    "                               left_on=\"id\", right_on=\"NbaDotComPlayerID\", how=\"inner\")\n",
    "\n",
    "# Check the new DataFrame\n",
    "combined_stats_2019"
   ]
  },
  {
   "cell_type": "code",
   "execution_count": null,
   "metadata": {},
   "outputs": [],
   "source": [
    "# Drop rows with empty key data starting with \"PTS\"\n",
    "nan_value = float(\"NaN\")\n",
    "combined_stats_2019.replace(\"\", nan_value, inplace=True)\n",
    "\n",
    "cleaned_2019 = combined_stats_2019.dropna(subset = [\"PTS\"], inplace=False)"
   ]
  },
  {
   "cell_type": "code",
   "execution_count": null,
   "metadata": {},
   "outputs": [],
   "source": [
    "# Save the 2019 combined stats data for each player to csv\n",
    "cleaned_2019.to_csv(\"data/cleaned_2019.csv\")"
   ]
  },
  {
   "cell_type": "code",
   "execution_count": null,
   "metadata": {},
   "outputs": [],
   "source": [
    "# Send data to Antonia for further cleaning in nba_cleanup.ipynb"
   ]
  }
 ],
 "metadata": {
  "kernelspec": {
   "display_name": "Python 3",
   "language": "python",
   "name": "python3"
  },
  "language_info": {
   "codemirror_mode": {
    "name": "ipython",
    "version": 3
   },
   "file_extension": ".py",
   "mimetype": "text/x-python",
   "name": "python",
   "nbconvert_exporter": "python",
   "pygments_lexer": "ipython3",
   "version": "3.7.4"
  }
 },
 "nbformat": 4,
 "nbformat_minor": 4
}
