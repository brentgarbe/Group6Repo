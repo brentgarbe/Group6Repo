{
 "cells": [
  {
   "cell_type": "code",
   "execution_count": 5,
   "metadata": {},
   "outputs": [],
   "source": [
    "import pandas as pd\n",
    "import requests\n",
    "player_stats:'//www.spotrac.com/nba/statistics/player/'"
   ]
  },
  {
   "cell_type": "code",
   "execution_count": 4,
   "metadata": {},
   "outputs": [
    {
     "name": "stdout",
     "output_type": "stream",
     "text": [
      "[2000, 2001, 2002, 2003, 2004, 2005, 2006, 2007, 2008, 2009, 2010, 2011, 2012, 2013, 2014, 2015, 2016, 2017, 2018, 2019]\n"
     ]
    },
    {
     "data": {
      "text/plain": [
       "20"
      ]
     },
     "execution_count": 4,
     "metadata": {},
     "output_type": "execute_result"
    }
   ],
   "source": [
    "years = []\n",
    "for x in range(2000,2020):\n",
    "    years.append(x)\n",
    "\n",
    "print(years)\n",
    "len(years)"
   ]
  },
  {
   "cell_type": "code",
   "execution_count": 9,
   "metadata": {},
   "outputs": [
    {
     "name": "stdout",
     "output_type": "stream",
     "text": [
      "\n"
     ]
    }
   ],
   "source": [
    "playerList = []\n",
    "for y in years:\n",
    "    Psalary = pd.read_html(f\"https://www.spotrac.com/nba/statistics/player/\")\n",
    "    playerList.append(Psalary)"
   ]
  },
  {
   "cell_type": "code",
   "execution_count": 16,
   "metadata": {},
   "outputs": [
    {
     "data": {
      "text/plain": [
       "[                  Rank Player  Pos  Team    GP   MIN    PTS    FG%    3P%  \\\n",
       " 0           Chris Paul     PG  OKC    63  2003  1114  48.94  36.20  90.00   \n",
       " 1    Russell Westbrook     PG  HOU    53  1904  1456  47.37  25.37  77.75   \n",
       " 2         James Harden     SG  HOU    61  2241  2096  43.51  35.24  86.09   \n",
       " 3         LeBron James     SF  LAL    60  2094  1544  49.83  34.91  69.68   \n",
       " 4           Kyle Lowry     PG  TOR    52  1900  1026  41.70  35.42  86.15   \n",
       " ..                 ...    ...  ...   ...   ...   ...    ...    ...    ...   \n",
       " 330    Marvin Williams     PF  MIL    52  1010   319  44.18  36.11  87.04   \n",
       " 331         Jeff Green     SF  HOU    80  1508   674  44.44  34.78  78.08   \n",
       " 332    Brandon Goodwin     PG  ATL    34   430   206  40.00  29.89  93.33   \n",
       " 333        Chris Silva      F  MIA    41   306   120  62.32   0.00  69.39   \n",
       " 334          Ky Bowman     SG  GSW    45  1015   335  41.74  30.84  82.93   \n",
       " \n",
       "      FT%  AST  BLK  STL  REB              TOV  Cap  \n",
       " 0    426    9   98  310  137  $38,506,482 (1)  NaN  \n",
       " 1    370   17   88  426  236  $38,506,482 (1)  NaN  \n",
       " 2    450   53  106  388  273  $38,199,000 (3)  NaN  \n",
       " 3    636   30   74  473  239  $37,436,858 (4)  NaN  \n",
       " 4    399   22   70  251  154  $34,996,296 (5)  NaN  \n",
       " ..   ...  ...  ...  ...  ...              ...  ...  \n",
       " 330   56   26   35  148   28   $604,278 (331)  NaN  \n",
       " 331   64   30   42  226   72   $531,032 (332)  NaN  \n",
       " 332   51    4   12   72   29   $522,738 (333)  NaN  \n",
       " 333   21   18    9  109   31   $466,918 (334)  NaN  \n",
       " 334  131   10   44  121   70   $350,189 (335)  NaN  \n",
       " \n",
       " [335 rows x 16 columns]]"
      ]
     },
     "execution_count": 16,
     "metadata": {},
     "output_type": "execute_result"
    }
   ],
   "source": [
    "players = playerList[2]\n",
    "players"
   ]
  },
  {
   "cell_type": "code",
   "execution_count": 22,
   "metadata": {},
   "outputs": [
    {
     "data": {
      "text/html": [
       "<div>\n",
       "<style scoped>\n",
       "    .dataframe tbody tr th:only-of-type {\n",
       "        vertical-align: middle;\n",
       "    }\n",
       "\n",
       "    .dataframe tbody tr th {\n",
       "        vertical-align: top;\n",
       "    }\n",
       "\n",
       "    .dataframe thead th {\n",
       "        text-align: right;\n",
       "    }\n",
       "</style>\n",
       "<table border=\"1\" class=\"dataframe\">\n",
       "  <thead>\n",
       "    <tr style=\"text-align: right;\">\n",
       "      <th></th>\n",
       "    </tr>\n",
       "  </thead>\n",
       "  <tbody>\n",
       "  </tbody>\n",
       "</table>\n",
       "</div>"
      ],
      "text/plain": [
       "Empty DataFrame\n",
       "Columns: []\n",
       "Index: []"
      ]
     },
     "execution_count": 22,
     "metadata": {},
     "output_type": "execute_result"
    }
   ],
   "source": [
    "df = pd.DataFrame()\n",
    "df"
   ]
  }
 ],
 "metadata": {
  "kernelspec": {
   "display_name": "Python 3",
   "language": "python",
   "name": "python3"
  },
  "language_info": {
   "codemirror_mode": {
    "name": "ipython",
    "version": 3
   },
   "file_extension": ".py",
   "mimetype": "text/x-python",
   "name": "python",
   "nbconvert_exporter": "python",
   "pygments_lexer": "ipython3",
   "version": "3.7.4"
  }
 },
 "nbformat": 4,
 "nbformat_minor": 4
}
